{
 "cells": [
  {
   "cell_type": "markdown",
   "metadata": {},
   "source": [
    "# Primeiros passos"
   ]
  },
  {
   "cell_type": "markdown",
   "metadata": {},
   "source": [
    "### Saida de dados\n",
    "\n",
    "o comando de saída de dados, ou seja, o responsável por **exibir** informações para o usuário no ``Python``. Em pseudocódigo, lemos como `escreva`."
   ]
  },
  {
   "cell_type": "code",
   "execution_count": 1,
   "metadata": {},
   "outputs": [
    {
     "name": "stdout",
     "output_type": "stream",
     "text": [
      "Olá mundo!\n"
     ]
    }
   ],
   "source": [
    "print(\"Olá mundo!\")"
   ]
  },
  {
   "cell_type": "markdown",
   "metadata": {},
   "source": [
    "### Entrada de dados\n",
    "\n",
    "O comando de entrada de dados, ou seja, o responsável por **ler** as informações digitadas pelo usuário no ``Python``. Em pseudocódigo, lemos como `leia`."
   ]
  },
  {
   "cell_type": "code",
   "execution_count": 2,
   "metadata": {},
   "outputs": [
    {
     "name": "stdout",
     "output_type": "stream",
     "text": [
      "Meu nome é \n"
     ]
    }
   ],
   "source": [
    "nome = input(\"Digite seu nome: \")\n",
    "print(\"Meu nome é\",nome)"
   ]
  },
  {
   "cell_type": "markdown",
   "metadata": {},
   "source": [
    "# Variáveis"
   ]
  },
  {
   "cell_type": "markdown",
   "metadata": {},
   "source": [
    "### Conceito\n",
    "\n",
    "Na computação, temos as variáveis. Variáveis são posições na memória que sofrem alteração de valor.\n",
    "Ou seja, se você guardou um valor em uma variável, como um nome, uma idade, ele pode ser alterado posteriormente pois é possível essa volatilidade de seu valor.\n",
    "Para declarar uma variável, e armazenar um valor, é usado a sigla de = (igual).\n",
    "No Python, o tipo da variável é concebido de forma dinamica, ou seja, no ato de atribuição de valor."
   ]
  },
  {
   "cell_type": "markdown",
   "metadata": {},
   "source": [
    "### Padrões\n",
    "\n",
    "Existem alguns padrões de declaração de variáveis, os mais comuns são:\n",
    "\n",
    "- unimarUniversidade = camelCase\n",
    "- UnimarUniversidade = PascalCase\n",
    "- unimar_universidade = snake_case\n",
    "\n",
    "Segue o exemplo de atribuição:"
   ]
  },
  {
   "cell_type": "code",
   "execution_count": 1,
   "metadata": {},
   "outputs": [
    {
     "name": "stdout",
     "output_type": "stream",
     "text": [
      "Bem-vindo Samuel\n",
      "Bem-vindo Samuel\n"
     ]
    }
   ],
   "source": [
    "nome = \"Samuel\"          #normal\n",
    "nomePessoa = \"Samuel\"    #camelCase\n",
    "NomePessoa = \"Samuel\"    #PascalCase\n",
    "nome_pessoa = \"Samuel\"   #snake_case\n",
    "\n",
    "print(\"Bem-vindo \" + nome)\n",
    "print(\"Bem-vindo\", nome)"
   ]
  },
  {
   "cell_type": "markdown",
   "metadata": {},
   "source": [
    "### Concatenar\n",
    "\n",
    "Para juntarmos um conteúdio de texto com variáveis, ou apenas variáveis com variáveis, usa-se a concatenação, simboliza pela vírgula ou sinal de mais. Isso dita ao python que você quer juntar/unir valores.\n",
    "\n",
    "O operador `+` só pode ser usado entre strings e faz uma concatenação sem adicionar espaços automaticamente. Já a `,`, pode-se usar com outros tipos de dados e adiciona um espaço automaticamente.\n",
    "\n",
    "Porém, ao usar o sinal de `+` entre uma string e variável de tipo numeral, irá ocorrer um erro.\n",
    "\n",
    "Exemplo:"
   ]
  },
  {
   "cell_type": "code",
   "execution_count": 2,
   "metadata": {},
   "outputs": [
    {
     "name": "stdout",
     "output_type": "stream",
     "text": [
      "Olá, Marqinho, você possui uma Ferrari e tem 40 anos.\n"
     ]
    }
   ],
   "source": [
    "nomeProf = 'Marqinho'\n",
    "idadeProf = 40\n",
    "carroProf = 'Ferrari'\n",
    "\n",
    "print(\"Olá,\", nomeProf + \", você possui uma\", carroProf, \"e tem\", idadeProf, \"anos.\")"
   ]
  },
  {
   "cell_type": "markdown",
   "metadata": {},
   "source": [
    "### Declaração\n",
    "\n",
    "Quando declaramos uma variável, temos que nos atentar na forma com declaramos as variáveis. Existe a sintaxe correta de declaração para tal\n",
    "\n",
    "- sem espaços\n",
    "- não começar com número\n",
    "- sem usar cacteres especiais/acentos\n",
    "- não usar palavras reservadas"
   ]
  },
  {
   "cell_type": "code",
   "execution_count": 5,
   "metadata": {},
   "outputs": [],
   "source": [
    "# nome = \"Renan\"               -> OK\n",
    "# 08_SP = \"Modalidade\"         -> Erro: começa com número\n",
    "# Nome Completo = \"Renan\"      -> Erro: espaço\n",
    "# código = \"console.log()\"     -> Erro: acento\n",
    "# try = \"Renan\"                -> Erro: palavra reservada\n",
    "# I = \"Renan\"                  -> OK"
   ]
  },
  {
   "cell_type": "markdown",
   "metadata": {},
   "source": [
    "### Tipos de dados\n",
    "\n",
    "Em python, o tipo de uma variável não precisa ser declarado explicitamente antes de usar a variável. O python é uma linguagem de tipagem dinâmica, o que significa que o tipo de uma variável é inferido automaticamente com base no valor que ele recebe. Qundo você atribui um valor a uma variável em Python, o interpretador determina o tipo dessa variável com base no tipo do valor atribuído. Exemplo\n",
    "\n",
    "- ``str``: Representa uma cadeia de caracteres, ou seja, textos de forma geral.\n",
    "- ``int``: Representa números inteiros.\n",
    "- ``float``: Representa números de ponto flutuante ou seja, números com casas decimais\n"
   ]
  },
  {
   "cell_type": "code",
   "execution_count": 4,
   "metadata": {},
   "outputs": [
    {
     "name": "stdout",
     "output_type": "stream",
     "text": [
      "O tipo da variável nomeAluno é <class 'str'>\n",
      "O tipo da variável idade é <class 'int'>\n",
      "O tipo da variável altura é <class 'float'>\n"
     ]
    }
   ],
   "source": [
    "nomeAluno = \"Samuel\"\n",
    "idade = 18\n",
    "altura = 1.60\n",
    "\n",
    "print(\"O tipo da variável nomeAluno é\", type(nomeAluno))\n",
    "print(\"O tipo da variável idade é\", type(idade))\n",
    "print(\"O tipo da variável altura é\", type(altura))"
   ]
  },
  {
   "cell_type": "code",
   "execution_count": 5,
   "metadata": {},
   "outputs": [
    {
     "name": "stdout",
     "output_type": "stream",
     "text": [
      "O nome atual do aluno é Samuel\n",
      "Nome do aluno definido para: Samel\n"
     ]
    }
   ],
   "source": [
    "print(\"O nome atual do aluno é\", nomeAluno)\n",
    "nomeAluno = input(\"Digite seu novo nome: \")\n",
    "print(\"Nome do aluno definido para:\", nomeAluno)"
   ]
  },
  {
   "cell_type": "markdown",
   "metadata": {},
   "source": [
    "# Atividade - Entrada e Saída\n",
    "\n",
    "1- Peça ao usuário que digite seu time do coração e exiba uma mensagem qualquer"
   ]
  },
  {
   "cell_type": "code",
   "execution_count": 8,
   "metadata": {},
   "outputs": [
    {
     "name": "stdout",
     "output_type": "stream",
     "text": [
      " time qualquer!\n"
     ]
    }
   ],
   "source": [
    "time = input(\"Digite seu time do coração: \")\n",
    "\n",
    "if time.lower() == \"são paulo\" or time.lower() == \"sao paulo\":\n",
    "    print(time, \"ai timinho de baitola!\")\n",
    "elif time.lower() == 'corinthians':\n",
    "    print(time, 'o melhor time do Brasil!')\n",
    "else:\n",
    "    print(time, \"time qualquer!\")"
   ]
  },
  {
   "cell_type": "markdown",
   "metadata": {},
   "source": [
    "2- Peça ao usuário para digitar sua comida favorita e exiba uma mensagem qualquer."
   ]
  },
  {
   "cell_type": "code",
   "execution_count": 9,
   "metadata": {},
   "outputs": [
    {
     "name": "stdout",
     "output_type": "stream",
     "text": [
      " é bão mesmo!\n"
     ]
    }
   ],
   "source": [
    "comida = input(\"Digite sua comida favorita: \")\n",
    "print(comida, 'é bão mesmo!')"
   ]
  },
  {
   "cell_type": "markdown",
   "metadata": {},
   "source": [
    "3- Peça ao usuário para digitar uma palavra e um número. Depois, exiba uma senha personalizada.\n",
    "\n",
    "Exemplo:\n",
    "Entrada: Gato e 123 -> Saída Gato123"
   ]
  },
  {
   "cell_type": "code",
   "execution_count": 10,
   "metadata": {},
   "outputs": [
    {
     "name": "stdout",
     "output_type": "stream",
     "text": [
      "Sua senha personalizada é: \n"
     ]
    }
   ],
   "source": [
    "strSenha = input(\"Digite uma palavra qualquer: \")\n",
    "intSenha = input(\"Digite um número qualquer: \")\n",
    "\n",
    "print(\"Sua senha personalizada é:\",strSenha+intSenha)"
   ]
  },
  {
   "cell_type": "markdown",
   "metadata": {},
   "source": [
    "4- Peça ao usuário para digitar um nome e uma profissão fivtícia para um personagem. "
   ]
  },
  {
   "cell_type": "code",
   "execution_count": 11,
   "metadata": {},
   "outputs": [
    {
     "name": "stdout",
     "output_type": "stream",
     "text": [
      " é um(a) grande \n"
     ]
    }
   ],
   "source": [
    "nomePesongem = input(\"Digite o nome de seu personagem: \")\n",
    "profissaoPersonagem = input(\"Digite a profissão de seu personagem: \")\n",
    "\n",
    "print(nomePesongem, \"é um(a) grande\", profissaoPersonagem)"
   ]
  },
  {
   "cell_type": "markdown",
   "metadata": {},
   "source": [
    "5- Peça ao usuário para inserir um substativo e um adjetivo. Depois, exiba um título ficticio de livro"
   ]
  },
  {
   "cell_type": "code",
   "execution_count": 12,
   "metadata": {},
   "outputs": [
    {
     "name": "stdout",
     "output_type": "stream",
     "text": [
      "Seu livro ficticio é:  o corinthiano mais  de todos os tempos\n"
     ]
    }
   ],
   "source": [
    "substantivo = input(\"Digite um substantivo: \")\n",
    "adjetivo = input(\"Digite um adjetivo: \")\n",
    "\n",
    "print(\"Seu livro ficticio é:\", substantivo, \"o corinthiano mais\", adjetivo, \"de todos os tempos\")"
   ]
  },
  {
   "cell_type": "markdown",
   "metadata": {},
   "source": [
    "6- Peça ao usuário para inserir seu estilo de musica preferido. Depois, exiba sua opniao sobre estilo."
   ]
  },
  {
   "cell_type": "code",
   "execution_count": 13,
   "metadata": {},
   "outputs": [
    {
     "name": "stdout",
     "output_type": "stream",
     "text": [
      "Se converta, desviado!\n"
     ]
    }
   ],
   "source": [
    "estiloMusical = input(\"Qual seu estilo de musica preferido?\")\n",
    "\n",
    "if estiloMusical.lower() == \"gospel\":\n",
    "    print(\"Eita glória!!\")\n",
    "else:\n",
    "    print(\"Se converta, desviado!\")"
   ]
  },
  {
   "cell_type": "markdown",
   "metadata": {},
   "source": [
    "# Operadores"
   ]
  },
  {
   "cell_type": "markdown",
   "metadata": {},
   "source": [
    "### Aritmético"
   ]
  },
  {
   "cell_type": "code",
   "execution_count": null,
   "metadata": {},
   "outputs": [],
   "source": [
    "print(2 + 1)    #Soma\n",
    "print(2 - 1)    #Subtração\n",
    "print(2 * 1)    #Multiplicação\n",
    "print(2 / 1)    #Divisão\n",
    "print(2 ** 1)   #Elevado\n",
    "print(2 // 1)   #Divisão inteira\n",
    "print(2 % 1)    #Resto da divisão"
   ]
  },
  {
   "cell_type": "markdown",
   "metadata": {},
   "source": [
    "### Relacionais"
   ]
  },
  {
   "cell_type": "code",
   "execution_count": null,
   "metadata": {},
   "outputs": [],
   "source": [
    "print(2 == 1)   #Igual\n",
    "print(2 != 1)   #Diferente\n",
    "print(2 > 1)    #Maior que\n",
    "print(2 < 1)    #Menor que\n",
    "print(2 <= 1)   #Menor ou igual\n",
    "print(2 >= 1)   #Maior ou igual"
   ]
  },
  {
   "cell_type": "markdown",
   "metadata": {},
   "source": [
    "### Exercícios"
   ]
  },
  {
   "cell_type": "markdown",
   "metadata": {},
   "source": [
    "01 - Faça um algoritimo que leia dois valores inteiros e positicos. Ao fim, exiba a soma deste valores ao usuario"
   ]
  },
  {
   "cell_type": "code",
   "execution_count": null,
   "metadata": {},
   "outputs": [
    {
     "name": "stdout",
     "output_type": "stream",
     "text": [
      "A soma dos dois números é: 468\n"
     ]
    }
   ],
   "source": [
    "#1- Soma de dois número\n",
    "\n",
    "n1 = int(input(\"Digite um número: \"))\n",
    "n2 = int(input(\"Digite outro número: \"))\n",
    "\n",
    "print(\"A soma dos dois números é:\", n1+n2)"
   ]
  },
  {
   "cell_type": "markdown",
   "metadata": {},
   "source": [
    "02 - Faça um algoritimo que leia um numero inteiro positivo e calcule o dobro deste número."
   ]
  },
  {
   "cell_type": "code",
   "execution_count": null,
   "metadata": {},
   "outputs": [],
   "source": [
    "#2- Dobro de um número\n",
    "\n",
    "n = int(input(\"Digite um número: \"))\n",
    "print(\"O dobro é:\", n * 2)\n"
   ]
  },
  {
   "cell_type": "markdown",
   "metadata": {},
   "source": [
    "03 - Faça um algoritimo que leia tres notas de um aluno. AO fim, exiba a media aritimética da tres notas."
   ]
  },
  {
   "cell_type": "code",
   "execution_count": null,
   "metadata": {},
   "outputs": [],
   "source": [
    "#3 - Médioa de 3 notas\n",
    "\n",
    "nota1 = float(input(\"Digite a nota do primeiro aluno: \"))\n",
    "nota2 = float(input(\"Digite a nota do segundo aluno: \"))\n",
    "nota3 = float(input(\"Digite a nota do terceiro aluno: \"))\n",
    "\n",
    "print(\"A média das 3 notas é\", (nota1 + nota2 + nota3) / 3) "
   ]
  },
  {
   "cell_type": "markdown",
   "metadata": {},
   "source": [
    "04 - Calcule a area do retângulo."
   ]
  },
  {
   "cell_type": "code",
   "execution_count": null,
   "metadata": {},
   "outputs": [],
   "source": [
    "#4- Área de retângulo\n",
    "\n",
    "base = int(input(\"Digite a base do retângulo: \"))\n",
    "altura = int(input(\"Digite a altura do retângulo: \"))\n",
    "\n",
    "print(\"A área do retangulo é:\", base * altura)\n",
    "\n"
   ]
  },
  {
   "cell_type": "markdown",
   "metadata": {},
   "source": [
    "05 - Com o valor do dolar atual do Dolár, um casal precisa se planeja para uma vaigem. Faça um algoritimo que permita o casal converter a quantidade de dinheiro em reais que possuem, para dolar, considerando a cotação atual do dia."
   ]
  },
  {
   "cell_type": "code",
   "execution_count": 26,
   "metadata": {},
   "outputs": [
    {
     "name": "stdout",
     "output_type": "stream",
     "text": [
      "O valor de seu dinheiro convertido em dolar é: U$5.73\n"
     ]
    }
   ],
   "source": [
    "#5 Real para dolar\n",
    "\n",
    "dolar = 5.73\n",
    "\n",
    "reais = float(input(\"Digite sua quantidade de dinheiro em real: \"))\n",
    "valorDolar =  reais / dolar\n",
    "print(f'O valor de seu dinheiro convertido em dolar é: U${dolar:.2f}')"
   ]
  },
  {
   "cell_type": "markdown",
   "metadata": {},
   "source": [
    "06 - Solicite para o usuario a suya idade. Com a sua idade, crie um algoritimo que calcule a quantidade de dias que a pessoa ja viveu."
   ]
  },
  {
   "cell_type": "code",
   "execution_count": null,
   "metadata": {},
   "outputs": [
    {
     "name": "stdout",
     "output_type": "stream",
     "text": [
      "Sua idade em dias é de, aproximadamente: 3650\n"
     ]
    }
   ],
   "source": [
    "#6- Idade em dias\n",
    "\n",
    "dias = 365\n",
    "\n",
    "idade = int(input(\"Digite sua idade: \"))\n",
    "print(f\"Sua idade em dias é de, aproximadamente, {idade * dias} dias\")"
   ]
  },
  {
   "cell_type": "markdown",
   "metadata": {},
   "source": [
    "07 - João esta muito cotente com o desepenho do seu time e resoveu adquirir uma camiseta do melhor time do mundo, Corinthians. Ao chegar na loja, percebeu que há um desconto em pagamentos á vista, que é a mesma forma que ele faria. Solicite ao usuario , o valor do produto, o percentual de desconto, e ao fim, exiba o preço do produto ja descontado para pagamento."
   ]
  },
  {
   "cell_type": "code",
   "execution_count": null,
   "metadata": {},
   "outputs": [
    {
     "name": "stdout",
     "output_type": "stream",
     "text": [
      "O preço do produto com desconto é de $9.9\n"
     ]
    }
   ],
   "source": [
    "#7- Produto com desconto\n",
    "\n",
    "preco = float(input(\"Digite o preço do produto: \"))\n",
    "procentagemDesconto = float(input(\"Digite a porcentagem do desconto: \"))\n",
    "desconto = preco * (procentagemDesconto / 100)\n",
    "\n",
    "print(f\"O preço do produto com desconto é de ${preco - desconto}\")"
   ]
  },
  {
   "cell_type": "markdown",
   "metadata": {},
   "source": [
    "08 - Faça uim algoritmo que leia uma temperatura em Celsius e converta-a em Fahrenheit e en Kelvin."
   ]
  },
  {
   "cell_type": "code",
   "execution_count": null,
   "metadata": {},
   "outputs": [
    {
     "name": "stdout",
     "output_type": "stream",
     "text": [
      "A temperatura em Grau Celsius é: 58°C\n",
      "A temperatura em Grau Fahrenheit é: 136.4°F\n",
      "A temperatura em Kelvin é: 331.15K\n"
     ]
    }
   ],
   "source": [
    "# Celsius em Fahrenheit e Kelvin\n",
    "\n",
    "temperatura = float(input(\"Digite uma temperatura em Graus Celsius: \"))\n",
    "\n",
    "fahrenheit = (temperatura * 9/5) + 32\n",
    "kelvin = temperatura + 273.15\n",
    "\n",
    "print(f\"A temperatura em Grau Celsius é: {temperatura}°C\")\n",
    "print(f\"A temperatura em Grau Fahrenheit é: {fahrenheit}°F\")\n",
    "print(f\"A temperatura em Kelvin é: {kelvin}K\")"
   ]
  },
  {
   "cell_type": "markdown",
   "metadata": {},
   "source": [
    "09- Faça um algoritmo que leia o peso e a altura de uma pessoa. Com esses dados, calcular o IMC do usuário."
   ]
  },
  {
   "cell_type": "code",
   "execution_count": 3,
   "metadata": {},
   "outputs": [
    {
     "name": "stdout",
     "output_type": "stream",
     "text": [
      "Seu IMC é 21.48\n"
     ]
    }
   ],
   "source": [
    "altura = float(input(\"Digite sua altura em m\"))\n",
    "peso = float(input(\"Digite sua altura em kg\"))\n",
    "\n",
    "imc = peso / (altura * altura)\n",
    "\n",
    "print(f\"Seu IMC é {imc:.2f}\")"
   ]
  },
  {
   "cell_type": "markdown",
   "metadata": {},
   "source": [
    "10- Faça um algoritmo que solicite dois números ao usuário e calcule o resto da divisão entre elas."
   ]
  },
  {
   "cell_type": "code",
   "execution_count": null,
   "metadata": {},
   "outputs": [
    {
     "name": "stdout",
     "output_type": "stream",
     "text": [
      "O resto da divisão de 12 por 5 é: 2\n"
     ]
    }
   ],
   "source": [
    "n1= int(input(\"Digite um número: \"))\n",
    "n2= int(input(\"Digite outro número: \"))\n",
    "\n",
    "print(f\"O resto da divisão de {n1}/{n2} é: {n1 % n2}\")"
   ]
  },
  {
   "cell_type": "markdown",
   "metadata": {},
   "source": [
    "11- Para se preparar para a Calourada, uma aluna de vôlei da turma de ADS começou a correr para melhorar o condicionamento físico e deseja calcular a sua velocidade média durante as sessões de corrida. Solicite ao usuário, a distância percorrida e o tempo gasto da atividade para cálculo. "
   ]
  },
  {
   "cell_type": "code",
   "execution_count": 8,
   "metadata": {},
   "outputs": [
    {
     "name": "stdout",
     "output_type": "stream",
     "text": [
      "Sua velociade média é de: 10.00 m/min\n"
     ]
    }
   ],
   "source": [
    "distancia = int(input(\"Digite sua distância percorrida em metros: \"))\n",
    "tempo = int(input(\"Digite o tempo em minutos\"))\n",
    "\n",
    "print (f\"Sua velociade média é de: {(distancia / tempo):.2f} m/min\")"
   ]
  },
  {
   "cell_type": "markdown",
   "metadata": {},
   "source": [
    "12 - Faça um algoritmo que leia um valor em anos. A partir dessa entrada, calcular quantos meses, dias, horas e minutos possui essa entrada."
   ]
  },
  {
   "cell_type": "code",
   "execution_count": 3,
   "metadata": {},
   "outputs": [
    {
     "name": "stdout",
     "output_type": "stream",
     "text": [
      "Sua idade em anos: 12\n",
      "Sua idade em meses: 144\n",
      "Sua idade em dias: 4380\n",
      "Sua idade em horas: 288\n",
      "Sua idade em minutos: 17280\n"
     ]
    }
   ],
   "source": [
    "idadeAnos = int(input(\"Digite sua idade: \"))\n",
    "\n",
    "idadeMeses = idadeAnos * 12\n",
    "idadeDias = idadeAnos * 365\n",
    "idadeHoras = idadeAnos * 24\n",
    "idadeMinutos = idadeHoras * 60\n",
    "\n",
    "print(f\"Sua idade em anos: {idadeAnos}\")\n",
    "print(f\"Sua idade em meses: {idadeMeses}\")\n",
    "print(f\"Sua idade em dias: {idadeDias}\")\n",
    "print(f\"Sua idade em horas: {idadeHoras}\")\n",
    "print(f\"Sua idade em minutos: {idadeMinutos}\")"
   ]
  },
  {
   "cell_type": "markdown",
   "metadata": {},
   "source": [
    "13 - Faça um algoritmo que calcule a conta final de um dado cliente na Unimar Lanches, que por sua vez, possui a seguinte tabela de preços:\n",
    "\n",
    "\n",
    "*   Hamburguer - R$18.50\n",
    "\n",
    "*   X Salada - R$22.00\n",
    "\n",
    "*   Fritas - R$12.90\n",
    "\n",
    "*   Refri - R$5.00\n",
    "\n",
    "*   Milkshake - R$8.99\n",
    "\n",
    "O cliente poderá escolher quantos produtos desejar. Ao fim, mostrar o total ao cliente."
   ]
  },
  {
   "cell_type": "code",
   "execution_count": 5,
   "metadata": {},
   "outputs": [
    {
     "name": "stdout",
     "output_type": "stream",
     "text": [
      "Cardapio UniLanches:\n",
      "1- Hamburguer R$15,50\n",
      "2- X Salada R$22,00\n",
      "3- Fritas R$ 12,90\n",
      "4- Refri R$ 5,00\n",
      "5- Milkshake R$8,99\n",
      "6- Finalizar\n",
      "O valor total de seu pedido foi de R$46.5\n"
     ]
    }
   ],
   "source": [
    "print(\"Cardapio UniLanches:\\n1- Hamburguer R$15,50\\n2- X Salada R$22,00\\n3- Fritas R$ 12,90\\n4- Refri R$ 5,00\\n5- Milkshake R$8,99\\n6- Finalizar\")\n",
    "pedido = []\n",
    "preco = 0.0\n",
    "\n",
    "while True :\n",
    "    opcao = int(input(\"Digite uma opção de nosso cardapio: \"))\n",
    "    if opcao == 6 :\n",
    "        break\n",
    "    else : \n",
    "        pedido.insert(0,opcao)\n",
    "\n",
    "for produto in pedido:\n",
    "    if produto == 1:\n",
    "        preco += 15.50\n",
    "    elif produto == 2:\n",
    "        preco +=22.0\n",
    "    elif produto == 3:\n",
    "        preco +=12.9\n",
    "    elif produto == 4:\n",
    "        preco +=5.0\n",
    "    elif produto == 5:\n",
    "        preco +=8.99\n",
    "\n",
    "print(f\"O valor total de seu pedido foi de R${preco}\")"
   ]
  },
  {
   "cell_type": "markdown",
   "metadata": {},
   "source": [
    "14 - Os funcionários do bar do Moe's conseguiram um adicional devido a alta das vendas neste período do ano. Faça um algoritmo que leia o salário base do funcionário, o percentual de acréscimo, e ao fim mostre o salário total recalculado."
   ]
  },
  {
   "cell_type": "code",
   "execution_count": null,
   "metadata": {},
   "outputs": [],
   "source": [
    "salarioBase = float(input('Digite o salário base: '))\n",
    "bonusPercentual = float(input('Digite o percentual de acréscimo: '))\n",
    "\n",
    "salario_final = salarioBase + (salarioBase * (bonusPercentual / 100))\n",
    "\n",
    "print(f'O salário recalculado com acréscimo é de R${salario_final}')"
   ]
  },
  {
   "cell_type": "markdown",
   "metadata": {},
   "source": [
    "### Relacionais"
   ]
  },
  {
   "cell_type": "code",
   "execution_count": 1,
   "metadata": {},
   "outputs": [
    {
     "name": "stdout",
     "output_type": "stream",
     "text": [
      "False\n",
      "True\n",
      "True\n",
      "False\n",
      "False\n",
      "True\n",
      "True\n",
      "False\n",
      "False\n",
      "True\n"
     ]
    }
   ],
   "source": [
    "print(2 == 1)               #Igual\n",
    "print(2 != 1)               #Diferente\n",
    "print(2 > 1)                #Maior que\n",
    "print(2 < 1)                #Menor que\n",
    "print(2 <= 1)               #Menor ou igual\n",
    "print(2 >= 1)               #Maior ou igual\n",
    "\n",
    "print(1 < 2 or 1 == 0)      #OU -> Uma ou outra comparação é verdadeira\n",
    "print(1 > 2 and 1 == 1)     #E  -> As duas condições precisam ser verdadeiras\n",
    "\n",
    "print(not True)             #not -> Inverte o valor (Mesmo que ! em outras linguagens)\n",
    "print(not False)            #not -> Inverte o valor (Mesmo que ! em outras linguagens)"
   ]
  },
  {
   "cell_type": "markdown",
   "metadata": {},
   "source": [
    "### if e else"
   ]
  },
  {
   "cell_type": "code",
   "execution_count": null,
   "metadata": {},
   "outputs": [
    {
     "name": "stdout",
     "output_type": "stream",
     "text": [
      "Número 10 é par\n"
     ]
    }
   ],
   "source": [
    "#Validar se o número é par\n",
    "\n",
    "numero = int(input(\"Digite um valor inteiro: \"))\n",
    "\n",
    "if(numero % 2 == 0):\n",
    "    print(f\"Número {numero} é par\")\n",
    "else:\n",
    "    print(f\"Número {numero} é impar\")"
   ]
  },
  {
   "cell_type": "code",
   "execution_count": null,
   "metadata": {},
   "outputs": [],
   "source": [
    "#Números positivos e negativos\n",
    "\n",
    "numero = int(input(\"Digite um valor inteiro: \"))\n",
    "\n",
    "if(numero >= 0):\n",
    "    print(f\"O número {numero} é positivo\")\n",
    "else:\n",
    "    print(f\"O número {numero} é negativo\")\n"
   ]
  },
  {
   "cell_type": "markdown",
   "metadata": {},
   "source": [
    "### Exercícios"
   ]
  },
  {
   "cell_type": "markdown",
   "metadata": {},
   "source": [
    "**01** - Faça um algoritmo que leia duas notas, calcule a média e verifique se o aluno foi aprovado ou reprovado. Para estar aprovado, a média deverá ser maior ou igual a 7."
   ]
  },
  {
   "cell_type": "code",
   "execution_count": null,
   "metadata": {},
   "outputs": [],
   "source": [
    "#1- Aprovar aluno se a média de duas notas for maior ou igual a 7\n",
    "\n",
    "n1 = float(input(\"Digite sua nota da primeira prova: \"))\n",
    "n2 = float(input(\"Digite sua nota da segunda prova: \"))\n",
    "\n",
    "media = (n1+n2) / 2\n",
    "\n",
    "if (media >=7):\n",
    "    print(\"Você foi aprovado!\")\n",
    "else:\n",
    "    print(\"Você foi reprovado!\")"
   ]
  },
  {
   "cell_type": "markdown",
   "metadata": {},
   "source": [
    "**02** - Faça um algoritmo que leia dois valores inteiros e detemrine qual deles é o maior."
   ]
  },
  {
   "cell_type": "code",
   "execution_count": null,
   "metadata": {},
   "outputs": [],
   "source": [
    "#2- Qual número é maior?\n",
    "\n",
    "n1 = float(input(\"Digite o primeiro número: \"))\n",
    "n2 = float(input(\"Digite o segundo número: \"))\n",
    "\n",
    "if (n1>n2):\n",
    "    print(f\"{n1} é maior que {n2}\")\n",
    "elif (n2 > n1):\n",
    "    print(f\"{n2} é maior que {n1}\")\n",
    "else:\n",
    "    print(f\"Os números {n1} e {n2} são iguais\")"
   ]
  },
  {
   "cell_type": "markdown",
   "metadata": {},
   "source": [
    "**03** - Faça um algoritmo que leia a velocidade máxima permitida em uma rodovia e também a velocidade de um determinado veículo. Verifique se o carro infringiu o limite de velocidade permitido e pagará multa ou não."
   ]
  },
  {
   "cell_type": "code",
   "execution_count": null,
   "metadata": {},
   "outputs": [],
   "source": [
    "#3- Qual número é maior?\n",
    "\n",
    "velocidadeMaxima = float(input(\"Digite a velocidade máxima permitida: \"))\n",
    "velocidadeVeiculo = float(input(\"Digite a velocidade do veículo: \"))\n",
    "\n",
    "if(velocidadeVeiculo > velocidadeMaxima):\n",
    "    print(\"Vai pagar multa\")\n",
    "else:\n",
    "    print(\"Não vai pagar multa\")"
   ]
  },
  {
   "cell_type": "markdown",
   "metadata": {},
   "source": [
    "**04** - Idem ao 2 porém com 3 valores."
   ]
  },
  {
   "cell_type": "code",
   "execution_count": null,
   "metadata": {},
   "outputs": [
    {
     "name": "stdout",
     "output_type": "stream",
     "text": [
      "Os 3 números são iguais\n"
     ]
    }
   ],
   "source": [
    "#4- Idem ao 2 com 3 valores\n",
    "\n",
    "n1 = int(input(\"Digite o primeiro número: \"))\n",
    "n2 = int(input(\"Digite o segundo número: \"))\n",
    "n3 = int(input(\"Digite o terceiro número: \"))\n",
    "\n",
    "if (n1 > n2 and n1 > n3):\n",
    "    print(f\"{n1} é o maior número\")\n",
    "elif (n2 > n1 and n2 > n3):\n",
    "    print(f\"{n2} é o maior número\")\n",
    "elif (n3 > n1 and n3 > n2):\n",
    "    print(f\"{n3} é o maior número\")\n",
    "else:\n",
    "    print(f\"Os três números são iguais\")"
   ]
  },
  {
   "cell_type": "markdown",
   "metadata": {},
   "source": [
    "**05** - Faça um algoritmo que leia a altura e o sexo de uma pessoa. Calcule e mostre o seu peso ideal utilizando as seguintes fórmulas:\n",
    "\n",
    "\n",
    "*   **Homens**: (72.7 * altura) - 58\n",
    "*   **Mulheres**: (62.1 * altura) - 44.7"
   ]
  },
  {
   "cell_type": "code",
   "execution_count": null,
   "metadata": {},
   "outputs": [
    {
     "name": "stdout",
     "output_type": "stream",
     "text": [
      "Seu peso ideal é: 54.69\n"
     ]
    }
   ],
   "source": [
    "altura = float(input(\"Digite sua altura: \"))\n",
    "genero = input(\"Digite seu gênero (Masculino ou Feminino): \")\n",
    "\n",
    "if(genero.lower() == 'masculino'):\n",
    "    print(f\"Seu peso ideal é: {((72.7 * altura) - 58):.2f}Kg\")\n",
    "elif (genero.lower() == 'feminino'):\n",
    "    print(f\"Seu peso ideal é: {((62.1 * altura) - 44.7):.2f}Kg\")\n",
    "else:\n",
    "    print(\"Gênero inválido\")"
   ]
  },
  {
   "cell_type": "markdown",
   "metadata": {},
   "source": [
    "06 - Crie um programa que peça ao usuário uma senha e só permita o acesso se a senha for 'sp_campeao'."
   ]
  },
  {
   "cell_type": "code",
   "execution_count": null,
   "metadata": {},
   "outputs": [],
   "source": [
    "#6- Verificar senha\n",
    "senha = input(\"Digite a senha de acesso: \")\n",
    "\n",
    "if(senha == \"sccp_campeao\"):\n",
    "    print(\"Acesso concedido!\")\n",
    "else:\n",
    "    print(\"Acesso negado!\")\n"
   ]
  },
  {
   "cell_type": "markdown",
   "metadata": {},
   "source": [
    "07 - Peça ao usuário um número e verifique se ele está no intervalo entre 10 e 50 (inclusive)."
   ]
  },
  {
   "cell_type": "code",
   "execution_count": null,
   "metadata": {},
   "outputs": [],
   "source": [
    "#7- Verificar se o numero está entre 10 e 50\n",
    "\n",
    "numero = int(input(\"Digite um número: \"))\n",
    "\n",
    "if(numero >= 10 and numero <= 50):\n",
    "    print(\"O número está entre 10 e 50\")\n",
    "else:\n",
    "    print(\"O número não está entre 10 e 50\")"
   ]
  },
  {
   "cell_type": "markdown",
   "metadata": {},
   "source": [
    "08 - Peça o salário do usuário e o valor de um empréstimo. Aprove o empréstimo apenas se o valor não ultrapassar 30% do salário."
   ]
  },
  {
   "cell_type": "code",
   "execution_count": 14,
   "metadata": {},
   "outputs": [
    {
     "name": "stdout",
     "output_type": "stream",
     "text": [
      "O emprestimo foi negado\n"
     ]
    }
   ],
   "source": [
    "#8- Peça o salario do usuário e o valor de um emprestimo. Aprove o emprestimo apenas se o valor não ultrapassar 30% do salario\n",
    "\n",
    "salario = float(input(\"Digite seu salario: R$:\"))\n",
    "emprestimo = float(input(\"Digite o valor do empréstimo: R$:\"))\n",
    "\n",
    "if(emprestimo <= salario * 0.3):\n",
    "    print(\"O emprestimo foi aprovado\")\n",
    "else:\n",
    "    print(\"O emprestimo foi negado\")"
   ]
  },
  {
   "cell_type": "markdown",
   "metadata": {},
   "source": [
    "09 - Peça um número ao usuário e informe se ele é múltiplo de 3 e de 5 ao mesmo tempo."
   ]
  },
  {
   "cell_type": "code",
   "execution_count": null,
   "metadata": {},
   "outputs": [],
   "source": [
    "numero = int(input('Insira um número > '))\n",
    "\n",
    "if numero % 5 == 0:\n",
    "    print('O número é múltiplo de 5!')\n",
    "elif numero % 3 == 0:\n",
    "    print('o número é multiplo de 3!')\n",
    "elif numero % 5 == 0 and numero % 3 == 0:\n",
    "    print('O número é múltiplo de 5 e 3!')\n",
    "else:\n",
    "    print('O número não é múltiplo de nenhum dos dois!')"
   ]
  },
  {
   "cell_type": "markdown",
   "metadata": {},
   "source": [
    "10 - Uma competição de natação é organizada de acordo com a idade de cada nadador. Elabore um algoritmo que leia a idade de um nadador e determine qual a categoria que ele deve competir. Considere:\n",
    "\n",
    "\n",
    "\n",
    "*   idade <= 8 - Categoria Infantil A\n",
    "*   idade < 13 - Categoria Infantil B\n",
    "*   idade < 18 - Categoria Juvenil A\n",
    "*   idade < 21 - Categoria Juvenil B\n",
    "*   idade >= 21 - Categoria Sênior"
   ]
  },
  {
   "cell_type": "code",
   "execution_count": null,
   "metadata": {},
   "outputs": [],
   "source": [
    "idadeNadador = int(input('Caro competidor, qual sua idade? > '))\n",
    "\n",
    "if idadeNadador <= 8:\n",
    "    print(f'Você tem {idadeNadador} anos e está na categoria Infantil A!')\n",
    "elif idadeNadador <= 13:\n",
    "    print(f'Você tem {idadeNadador} anos e está na categoria Infantil B!')\n",
    "elif idadeNadador <= 18:\n",
    "    print(f'Você tem {idadeNadador} anos e está na categoria Juvenil A!')\n",
    "elif idadeNadador < 21:\n",
    "    print(f'Você tem {idadeNadador} anos e está na categoria Juvenil B!')\n",
    "elif idadeNadador >= 21:\n",
    "    print(f'Você tem {idadeNadador} anos e está na categoria Infantil Sênior!')\n",
    "else:\n",
    "    print('Idade inválida, escreva novamente sua idade!')\n"
   ]
  },
  {
   "cell_type": "markdown",
   "metadata": {},
   "source": [
    "11. O IMC - Índice de Massa Corporal é calculado pela seguinte fórmula:\n",
    "\n",
    "IMC = Peso / Altura²\n",
    "\n",
    "Elabore um algoritmo que calcule o IMC e em seguida defina a condição da pessoa:"
   ]
  },
  {
   "cell_type": "code",
   "execution_count": null,
   "metadata": {},
   "outputs": [],
   "source": [
    "\n",
    "peso = float(input('Insira seu peso (em kg): '))\n",
    "altura = float(input('Insira sua altura (em metros): '))\n",
    "\n",
    "imc = peso / (altura ** 2)\n",
    "\n",
    "if imc < 18:\n",
    "    print(f'Atualmente você pesa {peso} kg e tem {altura} de altura, está abaixo do peso!')\n",
    "elif imc >= 18 and imc < 25:\n",
    "    print(f'Atualmente você pesa {peso} kg e tem {altura} de altura, está no peso ideal!')\n",
    "elif imc >= 25 and imc < 30:\n",
    "    print(f'Atualmente você pesa {peso} kg e tem {altura} de altura, está no acima do peso!')\n",
    "elif imc >= 30:\n",
    "    print(f'Atualmente você pesa {peso} kg e tem {altura} de altura, está obeso!')\n"
   ]
  },
  {
   "cell_type": "markdown",
   "metadata": {},
   "source": [
    "12. Elabore um algoritmo que determine se um ano é ou não bissexto.\n",
    "\n",
    "Obs. Um ano é bissexto se ele for divisível por 400 ou se ele for divisível por 4 e não por"
   ]
  },
  {
   "cell_type": "code",
   "execution_count": null,
   "metadata": {},
   "outputs": [],
   "source": [
    "ano = int(input('Insira um ano para ver se é bissexto > '))\n",
    "\n",
    "if ano % 4 == 0 and ano % 100 != 0 or ano % 400 == 0:\n",
    "    print(f'O ano {ano} é bissexto!')\n",
    "else:\n",
    "    print(f'O ano {ano} não é bissexto!')"
   ]
  },
  {
   "cell_type": "markdown",
   "metadata": {},
   "source": [
    "13. Calculadora simples. Faça um algoritmo que leia dois números inteiros digitados pelo usuário. Com estes dois números, mostras as opções de operações aritméticas (básicas) possíveis entre os números, e permitir a escolha do usuário. Com a escolha feita, realizar a operação aritmética entre os números."
   ]
  },
  {
   "cell_type": "code",
   "execution_count": null,
   "metadata": {},
   "outputs": [],
   "source": [
    "num1 = int(input('Digite o primeiro número: '))\n",
    "num2 = int(input('Digite o segundo número: '))\n",
    "operacao = input('Qual operação deseja realizar?: ')\n",
    "\n",
    "if operacao.lower() == 'somar':\n",
    "    print(f'A soma dos dois números é: {num1 + num2}')\n",
    "elif operacao.lower() == 'subtrair':\n",
    "    print(f'A subtração dos dois números é: {num1 - num2}')\n",
    "elif operacao.lower() == 'multiplicar':\n",
    "    print(f'A multiplicação dos dois números é: {num1 * num2}')\n",
    "elif operacao.lower() == 'dividir':\n",
    "    print(f'A divisão dos dois números é: {num1 / num2}')\n",
    "else:\n",
    "    print('Operação inválida.')\n"
   ]
  },
  {
   "cell_type": "markdown",
   "metadata": {},
   "source": [
    "## Match Case"
   ]
  },
  {
   "cell_type": "markdown",
   "metadata": {},
   "source": []
  },
  {
   "cell_type": "code",
   "execution_count": 2,
   "metadata": {},
   "outputs": [
    {
     "name": "stdout",
     "output_type": "stream",
     "text": [
      "Terça\n"
     ]
    }
   ],
   "source": [
    "opcao = int(input(\"Digite um número de 1 a 7\"))\n",
    "\n",
    "match opcao:\n",
    "    case 1: print('Domingo')\n",
    "    case 2: print('Segunda')\n",
    "    case 3: print('Terça')\n",
    "    case 4: print('Quarta')\n",
    "    case 5: print('Quinta')\n",
    "    case 6: print('Sexta')\n",
    "    case 7: print('Sábado')"
   ]
  },
  {
   "cell_type": "markdown",
   "metadata": {},
   "source": [
    "02 - Faça um algoritimo que leia dois números e uma operação (soma, sub, mult e div). use match-case para realizar a operação e imprimir o resultado. Se a operação for inválida, imprima \"Operação inválida\""
   ]
  },
  {
   "cell_type": "code",
   "execution_count": 8,
   "metadata": {},
   "outputs": [
    {
     "name": "stdout",
     "output_type": "stream",
     "text": [
      "Operação invalida\n"
     ]
    }
   ],
   "source": [
    "n1 = float(input('igite um numero: '))\n",
    "n2 = float(input('igite outro numero: '))\n",
    "\n",
    "operacao = input('Digite a operação (+, -, *, /): ')\n",
    "\n",
    "match operacao: \n",
    "    case '+': print(f'A soma do {n1} e {n2} é {n1 + n2}')\n",
    "    case '-': print(f'A subtração do {n1} e{n2} é {n1 - n2}')\n",
    "    case '*': print(f'A multiplicação do {n1} e {n2} é {n1 * n2}')\n",
    "    case '/': print(f'A Divisão do {n1} e {n2} é {n1 / n2}')\n",
    "    case _: print('Operação invalida')\n"
   ]
  },
  {
   "cell_type": "markdown",
   "metadata": {},
   "source": [
    "Faça um algoritimo que leia  um nome de um animal(cachorro, gato, coelho, etc). Com essa informação, indetificar o tipo do animal(Mamifero, reptil ou ave). Caso o animal não esteja nas opções, mostre \"Animal inválido\""
   ]
  },
  {
   "cell_type": "code",
   "execution_count": null,
   "metadata": {},
   "outputs": [],
   "source": [
    "animal = input('Digite um animal(Cachorro, gato, cobra, galinha)')\n",
    "\n",
    "match animal:\n",
    "    case 'cachorro': print('O animal é um Mamifero')\n",
    "    case 'gato': print('O animal é um Mamifero')\n",
    "    case 'galinha': print('O animal é um Ave')\n",
    "    case 'cobra': print('O animal é um reptil')\n",
    "    case _: print('O animal não foi identificado')"
   ]
  },
  {
   "cell_type": "markdown",
   "metadata": {},
   "source": [
    "04 - Faça um algoritimo que leia um número e mostre se ele é impar ou par"
   ]
  },
  {
   "cell_type": "code",
   "execution_count": 10,
   "metadata": {},
   "outputs": [
    {
     "name": "stdout",
     "output_type": "stream",
     "text": [
      "O número 3 é impar\n"
     ]
    }
   ],
   "source": [
    "# if(numero % 2 == 0): print(f\"Número {numero} é par\")\n",
    "   \n",
    "num = int(input('Digite um número: '))\n",
    "sobra = num % 2\n",
    "\n",
    "match sobra:\n",
    "    case 0: print(f\"O número {num} é par\")\n",
    "    case _: print(f\"O número {num} é impar\")"
   ]
  },
  {
   "cell_type": "markdown",
   "metadata": {},
   "source": [
    "05 - Faça um algoritimo que leia uma letra do alfabeto e mostre se ela é vogal ou consoante."
   ]
  },
  {
   "cell_type": "code",
   "execution_count": null,
   "metadata": {},
   "outputs": [
    {
     "name": "stdout",
     "output_type": "stream",
     "text": [
      "Vogal\n"
     ]
    }
   ],
   "source": [
    "letra = input('Digite uma Letra do alfabeto')\n",
    "\n",
    "match letra.lower:\n",
    "    case 'a' | 'e' | 'i' | 'o' | 'u': print('Vogal')\n",
    "    case _: print('Consoante')"
   ]
  },
  {
   "cell_type": "markdown",
   "metadata": {},
   "source": [
    "06 -Faça um algoritimo que leia uma entrada em RS. Mostrar as opções de conversão de moeda para o usuário (USD, YEN, ARS). O usuário deve escolher para qual moeda ele deseja converter seu dinheiro"
   ]
  },
  {
   "cell_type": "code",
   "execution_count": 13,
   "metadata": {},
   "outputs": [
    {
     "name": "stdout",
     "output_type": "stream",
     "text": [
      "2.0 R$ é igual a 0.35 USD\n"
     ]
    }
   ],
   "source": [
    "entrada_dinheiro = float(input('Digite o valor da entrada: R$ '))\n",
    "opcConversão = input('Qual moeda você quer converter? (1)USD, 2)YEN, 3)ARS 4)EUR )')\n",
    "\n",
    "match opcConversão: \n",
    "    case '1': print(f'{entrada_dinheiro} R$ é igual a {(entrada_dinheiro / 5.7):.2f} USD')\n",
    "    case '2': print(f'{entrada_dinheiro} R$ é igual a {(entrada_dinheiro * 26.4):.2f} YEN')\n",
    "    case '3': print(f'{entrada_dinheiro} R$ é igual a {(entrada_dinheiro * 186.5):.2f} ARS')\n",
    "    case '4': print(f'{entrada_dinheiro} R$ é igual a {(entrada_dinheiro / 6.43):.2f} EUR')\n",
    "    case _: print('Opção inválida. Por favor, tente novamente.')"
   ]
  },
  {
   "cell_type": "markdown",
   "metadata": {},
   "source": [
    "07 - O cliente fez uma compra de X reais na lojinha do MAC. Mostre as seguintes opções de pagamento: Débito, Crédito, Parcelado e Pix. Se escolher pix calcule o desconto de 5% da compra. Parcelado até 3x sem acréscimo. Parcelado até 7x acréscimo de 5%. Acima de 7x acréscimo de 10%. Demais compras não haverá alteração."
   ]
  },
  {
   "cell_type": "code",
   "execution_count": null,
   "metadata": {},
   "outputs": [
    {
     "name": "stdout",
     "output_type": "stream",
     "text": [
      "O valor da parcela ficou R$10.5\n"
     ]
    }
   ],
   "source": [
    "valorCompra = float(input('Digite o valor da compra: R$'))\n",
    "pagamentos = int(input('Digite a forma de pagamento: 1) Débito 2) Crédito 3) Parcelado 4) Pix'))\n",
    "\n",
    "match pagamentos: \n",
    "    case 4: \n",
    "        desconto = valorCompra * .05\n",
    "        print(f'O valor da compra ficou de R${(valorCompra - desconto):.2f}')\n",
    "    case 3: \n",
    "        parcelas = int(input('Digite a quantidade de parcelas: '))\n",
    "\n",
    "        if parcelas <= 3:\n",
    "            print(f'O valor da parcela ficou R${valorCompra}')\n",
    "        elif parcelas > 3 and parcelas < 7:\n",
    "            acrescimo = valorCompra * .05\n",
    "            print(f'O valor da parcela ficou R${valorCompra + acrescimo}')\n",
    "        elif parcelas > 7:\n",
    "            acrescimo = valorCompra * .10\n",
    "            print(f'O valor da parcela ficou R${valorCompra + acrescimo}')\n",
    "    case _: \n",
    "        print('Escolha uma forma de pagamento correto')\n",
    " "
   ]
  },
  {
   "cell_type": "code",
   "execution_count": null,
   "metadata": {},
   "outputs": [],
   "source": []
  },
  {
   "cell_type": "markdown",
   "metadata": {},
   "source": [
    "# WHILE"
   ]
  },
  {
   "cell_type": "markdown",
   "metadata": {},
   "source": [
    "Ex 02 - Indentifique o programa anterior para exibir os numeros de 50 a 100"
   ]
  },
  {
   "cell_type": "code",
   "execution_count": 4,
   "metadata": {},
   "outputs": [
    {
     "name": "stdout",
     "output_type": "stream",
     "text": [
      "50\n",
      "51\n",
      "52\n",
      "53\n",
      "54\n",
      "55\n",
      "56\n",
      "57\n",
      "58\n",
      "59\n",
      "60\n",
      "61\n",
      "62\n",
      "63\n",
      "64\n",
      "65\n",
      "66\n",
      "67\n",
      "68\n",
      "69\n",
      "70\n",
      "71\n",
      "72\n",
      "73\n",
      "74\n",
      "75\n",
      "76\n",
      "77\n",
      "78\n",
      "79\n",
      "80\n",
      "81\n",
      "82\n",
      "83\n",
      "84\n",
      "85\n",
      "86\n",
      "87\n",
      "88\n",
      "89\n",
      "90\n",
      "91\n",
      "92\n",
      "93\n",
      "94\n",
      "95\n",
      "96\n",
      "97\n",
      "98\n",
      "99\n",
      "100\n"
     ]
    }
   ],
   "source": [
    "x= 50\n",
    "while x <= 100:\n",
    "    print(x)\n",
    "    x += 1"
   ]
  },
  {
   "cell_type": "markdown",
   "metadata": {},
   "source": []
  },
  {
   "cell_type": "code",
   "execution_count": 7,
   "metadata": {},
   "outputs": [
    {
     "name": "stdout",
     "output_type": "stream",
     "text": [
      "1\n",
      "2\n"
     ]
    }
   ],
   "source": [
    "fim = int(input('Digite um numero'))\n",
    "\n",
    "x = 1\n",
    "while x <= fim:\n",
    "    print(x)\n",
    "    x += 1"
   ]
  },
  {
   "cell_type": "markdown",
   "metadata": {},
   "source": [
    "Ex 04 Indefique o exemplo anterior mostrando apenas os numeros pares existentes"
   ]
  },
  {
   "cell_type": "code",
   "execution_count": 14,
   "metadata": {},
   "outputs": [
    {
     "name": "stdout",
     "output_type": "stream",
     "text": [
      "0 Par\n",
      "2 Par\n",
      "4 Par\n",
      "6 Par\n",
      "8 Par\n",
      "10 Par\n"
     ]
    }
   ],
   "source": [
    "fim = int(input('Digite um numero'))\n",
    "\n",
    "x = 0\n",
    "while x <= fim:\n",
    "    if x % 2 == 0:\n",
    "        print(x, 'Par')\n",
    "    #else: \n",
    "        #print(x, 'Impar')\n",
    "    x += 1"
   ]
  },
  {
   "cell_type": "markdown",
   "metadata": {},
   "source": [
    "**Segunda forma**"
   ]
  },
  {
   "cell_type": "code",
   "execution_count": 13,
   "metadata": {},
   "outputs": [
    {
     "name": "stdout",
     "output_type": "stream",
     "text": [
      "0\n",
      "2\n",
      "4\n",
      "6\n",
      "8\n",
      "10\n"
     ]
    }
   ],
   "source": [
    "fim = int(input('Digite um numero'))\n",
    "\n",
    "x = 0\n",
    "\n",
    "while x <= fim:\n",
    "    print(x)\n",
    "    x += 2"
   ]
  },
  {
   "cell_type": "markdown",
   "metadata": {},
   "source": [
    "Ex 05 - Modifique o exercicio anterior para imprimir de 1 até o número digitado pelo usuário, mas dessa vez, imprima apenas os numeros impares"
   ]
  },
  {
   "cell_type": "code",
   "execution_count": 15,
   "metadata": {},
   "outputs": [
    {
     "name": "stdout",
     "output_type": "stream",
     "text": [
      "1 impar\n",
      "3 impar\n",
      "5 impar\n",
      "7 impar\n",
      "9 impar\n"
     ]
    }
   ],
   "source": [
    "fim = int(input('Digite um numero'))\n",
    "\n",
    "x = 0\n",
    "while x <= fim:\n",
    "    if x % 2 == 1:\n",
    "        print(x, 'impar')\n",
    "    #else: \n",
    "        #print(x, 'Impar')\n",
    "    x += 1"
   ]
  },
  {
   "cell_type": "markdown",
   "metadata": {},
   "source": [
    "Ex 06 - Reescreva o exercicio anterior para escrever os 10 primeiros multiplos de 3. (nao precisa obter nada digitado pelo usuario)"
   ]
  },
  {
   "cell_type": "code",
   "execution_count": 20,
   "metadata": {},
   "outputs": [
    {
     "name": "stdout",
     "output_type": "stream",
     "text": [
      "3\n",
      "6\n",
      "9\n",
      "12\n",
      "15\n",
      "18\n",
      "21\n",
      "24\n",
      "27\n",
      "30\n"
     ]
    }
   ],
   "source": [
    "x = 0\n",
    "while x < 30:\n",
    "    x += 3\n",
    "    print(x)"
   ]
  },
  {
   "cell_type": "markdown",
   "metadata": {},
   "source": [
    "OU"
   ]
  },
  {
   "cell_type": "code",
   "execution_count": 22,
   "metadata": {},
   "outputs": [
    {
     "name": "stdout",
     "output_type": "stream",
     "text": [
      "3\n",
      "6\n",
      "9\n",
      "12\n",
      "15\n",
      "18\n",
      "21\n",
      "24\n",
      "27\n",
      "30\n"
     ]
    }
   ],
   "source": [
    "x = 1\n",
    "\n",
    "while x <= 10:\n",
    "    multiplo = x * 3\n",
    "    print(multiplo)\n",
    "    x += 1"
   ]
  },
  {
   "cell_type": "markdown",
   "metadata": {},
   "source": [
    "07- Imagine ter de imprimir a tabuada de um número digitado pelo usuario. Essa tabuada deve ser impressa de 1 a 10, sendo `n` o numero digitado pelo usuario.\n",
    "\n",
    "(Tabuada de soma)"
   ]
  },
  {
   "cell_type": "code",
   "execution_count": 15,
   "metadata": {},
   "outputs": [
    {
     "name": "stdout",
     "output_type": "stream",
     "text": [
      "10 + 1 = 11\n",
      "10 + 2 = 12\n",
      "10 + 3 = 13\n",
      "10 + 4 = 14\n",
      "10 + 5 = 15\n",
      "10 + 6 = 16\n",
      "10 + 7 = 17\n",
      "10 + 8 = 18\n",
      "10 + 9 = 19\n",
      "10 + 10 = 20\n"
     ]
    }
   ],
   "source": [
    "num = int(input('Digite um numero para descobrir a tabuada: '))\n",
    "x = 1 #contadora\n",
    "\n",
    "while x <= 10:\n",
    "    print(f'{num} + {x} = {num + x}')\n",
    "    x += 1 #encrementando \n"
   ]
  },
  {
   "cell_type": "markdown",
   "metadata": {},
   "source": [
    "Ex 08 - Altere o programa anterior para exibir os resultados no mesmo formato de uma tabuada de **multiplicação**"
   ]
  },
  {
   "cell_type": "code",
   "execution_count": 16,
   "metadata": {},
   "outputs": [
    {
     "name": "stdout",
     "output_type": "stream",
     "text": [
      "5 x 1 = 5\n",
      "5 x 2 = 10\n",
      "5 x 3 = 15\n",
      "5 x 4 = 20\n",
      "5 x 5 = 25\n",
      "5 x 6 = 30\n",
      "5 x 7 = 35\n",
      "5 x 8 = 40\n",
      "5 x 9 = 45\n",
      "5 x 10 = 50\n"
     ]
    }
   ],
   "source": [
    "num = int(input('Digite um numero para descobrir a tabuada: '))\n",
    "x = 1 #contadora\n",
    "\n",
    "while x <= 10:\n",
    "    print(f'{num} x {x} = {num * x}')\n",
    "    x += 1 #encrementando \n"
   ]
  },
  {
   "cell_type": "markdown",
   "metadata": {},
   "source": [
    "09 - Modifique o programa anterior de forma que o usuario tambem digite o inicio e fim da tabuada, em vez de começar com 1 e terminar com 10 como é habitual.\n",
    "\n",
    "Exemplo:\n",
    "Tabuada do número: 15\n",
    "\n",
    "Digite o inicio da tabuada: 56\n",
    "\n",
    "Digite o fim da tabuada: 78\n",
    "\n",
    "        15 X 56 = 840\n",
    "        15 X 57 = 855 \n",
    "        ...\n",
    "        15 X 77 = 840\n",
    "        15 X 78 = 1170"
   ]
  },
  {
   "cell_type": "code",
   "execution_count": null,
   "metadata": {},
   "outputs": [
    {
     "name": "stdout",
     "output_type": "stream",
     "text": [
      "5 x 4 = 20\n",
      "5 x 5 = 25\n",
      "5 x 6 = 30\n",
      "5 x 7 = 35\n",
      "5 x 8 = 40\n",
      "5 x 9 = 45\n",
      "5 x 10 = 50\n"
     ]
    }
   ],
   "source": [
    "num = int(input('Digite um numero para descobrir a tabuada: '))\n",
    "inicio_tabu = int(input('Digite o inicio da tabuada: '))\n",
    "fim_tabu = int(input('Digite o inicio da tabuada: '))\n",
    "\n",
    "\n",
    "while inicio_tabu <= fim_tabu:\n",
    "    print(f'{num} x {inicio_tabu} = {num * inicio_tabu}')\n",
    "    inicio_tabu += 1  "
   ]
  },
  {
   "cell_type": "markdown",
   "metadata": {},
   "source": [
    "Contadores também podem ser úteis quando usados em condições dentro de programas. Vejamos um programa para corrigir um de teste de multipla escolha com tres questões. A resposta da primeira é 'b', da segunda é 'a' e da terceira é 'd'. Segue exemplo:"
   ]
  },
  {
   "cell_type": "code",
   "execution_count": 6,
   "metadata": {},
   "outputs": [
    {
     "name": "stdout",
     "output_type": "stream",
     "text": [
      "O aluno fez 1 pontos.\n"
     ]
    }
   ],
   "source": [
    "pontos = 0\n",
    "questao = 1\n",
    "\n",
    "while questao <= 3:\n",
    "    resposta = input(f'Resposta da questão {questao}: ')\n",
    "\n",
    "    if questao == 1 and resposta == 'b':\n",
    "        pontos = pontos + 1\n",
    "    if questao == 2 and resposta == 'a':\n",
    "        pontos += 1\n",
    "    if questao == 3 and resposta == 'd':\n",
    "        pontos += 1\n",
    "\n",
    "    questao += 1\n",
    "print(f'O aluno fez {pontos} pontos.')"
   ]
  },
  {
   "cell_type": "markdown",
   "metadata": {},
   "source": [
    "Ex 10 - Modifique o programa anterior para que ele aceite respostas com letras maisculas e minisculas em todas as questoes(sem usar funções auxiliares).\n",
    " "
   ]
  },
  {
   "cell_type": "code",
   "execution_count": null,
   "metadata": {},
   "outputs": [
    {
     "name": "stdout",
     "output_type": "stream",
     "text": [
      "O aluno fez 0 pontos.\n"
     ]
    }
   ],
   "source": [
    "pontos = 0\n",
    "questao = 1\n",
    "\n",
    "while questao <= 3:\n",
    "    resposta = input(f'Resposta da questão {questao}: ')\n",
    "\n",
    "    if questao == 1 and resposta == 'b' or resposta == 'B':\n",
    "        pontos = pontos + 1\n",
    "    if questao == 2 and resposta == 'a' or resposta == 'A':\n",
    "        pontos += 1\n",
    "    if questao == 3 and resposta == 'd' or resposta == 'D':\n",
    "        pontos += 1 \n",
    "\n",
    "    questao += 1\n",
    "print(f'O aluno fez {pontos} pontos.')"
   ]
  },
  {
   "cell_type": "markdown",
   "metadata": {},
   "source": [
    "### Acumuladores"
   ]
  },
  {
   "cell_type": "markdown",
   "metadata": {},
   "source": [
    "Nem sempre vamos precisar de apenas contadores. Em programas para calculoar o total de uma soma por exemplo, precisamos de acumuladores.\n",
    "\n",
    "A diferença entre um contador e um acumalador é que nos contadores o valor adicionado é constante, enos acumuladores o valor adicionado pode variar.\n",
    "\n"
   ]
  },
  {
   "cell_type": "markdown",
   "metadata": {},
   "source": [
    "Ex 11 = Faça um programa que leia 10 numeros e ao final mostre a soma dentre estes 10 numeros pelo usuário."
   ]
  },
  {
   "cell_type": "code",
   "execution_count": null,
   "metadata": {},
   "outputs": [
    {
     "name": "stdout",
     "output_type": "stream",
     "text": [
      "A soma de todos os numeros digitados é de 15\n"
     ]
    }
   ],
   "source": [
    "contador = 1\n",
    "soma = 0 #variavel acumuladora (totalizadora)\n",
    "\n",
    "while contador <= 5:\n",
    "    numero = int(input(f'Digite o {contador}º número: '))\n",
    "    soma = soma + numero\n",
    "    contador = contador + 1\n",
    "\n",
    "print(f'A soma de todos os numeros digitados é de {soma}')"
   ]
  },
  {
   "cell_type": "code",
   "execution_count": null,
   "metadata": {},
   "outputs": [],
   "source": [
    "x = 1 #contadora\n",
    "soma = 0\n",
    "qtde_notas = 0\n",
    "\n",
    "while x <= 4:\n",
    "    nota = int(input(f'Digite a {x}ª nota: '))\n",
    "    soma = soma + nota #acumuladora\n",
    "    x = x + 1 #x += 1\n",
    "print(f'A média das notas é: {soma/4}') #soma/4 é a média das notas"
   ]
  },
  {
   "cell_type": "markdown",
   "metadata": {},
   "source": [
    "## Interrompendo a repetição"
   ]
  },
  {
   "cell_type": "markdown",
   "metadata": {},
   "source": [
    "A instrução `break`(quebrar, interromper, frear em português) é utilizada para interromper a execução de um loop, seja ele um `for`, um `while`. Idependente do valor atual ou da condição"
   ]
  },
  {
   "cell_type": "code",
   "execution_count": 13,
   "metadata": {},
   "outputs": [
    {
     "name": "stdout",
     "output_type": "stream",
     "text": [
      "Soma dos números digitados: 3\n"
     ]
    }
   ],
   "source": [
    "soma = 0\n",
    "\n",
    "while True: \n",
    "    numero = int(input('Digite um número para somar ou 0 para sair: '))\n",
    "    if numero == 0:\n",
    "        break #encerra o loop\n",
    "    soma += numero #soma o número digitado\n",
    "\n",
    "print(f'Soma dos números digitados: {soma}') #exibe a soma dos números digitados11"
   ]
  },
  {
   "cell_type": "markdown",
   "metadata": {},
   "source": [
    "## Repetições aninhadas"
   ]
  },
  {
   "cell_type": "markdown",
   "metadata": {},
   "source": [
    "Podemos combinar varios whiles de foirma a obter resultado mais interessantes, como a repetição com incremento de duas variaveis. Vamos exibir as tabuadas de multplicação de 1 a 10"
   ]
  },
  {
   "cell_type": "code",
   "execution_count": 14,
   "metadata": {},
   "outputs": [
    {
     "name": "stdout",
     "output_type": "stream",
     "text": [
      "1 x 1 = 1\n",
      "1 x 2 = 2\n",
      "1 x 3 = 3\n",
      "1 x 4 = 4\n",
      "1 x 5 = 5\n",
      "1 x 6 = 6\n",
      "1 x 7 = 7\n",
      "1 x 8 = 8\n",
      "1 x 9 = 9\n",
      "1 x 10 = 10\n",
      "2 x 1 = 2\n",
      "2 x 2 = 4\n",
      "2 x 3 = 6\n",
      "2 x 4 = 8\n",
      "2 x 5 = 10\n",
      "2 x 6 = 12\n",
      "2 x 7 = 14\n",
      "2 x 8 = 16\n",
      "2 x 9 = 18\n",
      "2 x 10 = 20\n",
      "3 x 1 = 3\n",
      "3 x 2 = 6\n",
      "3 x 3 = 9\n",
      "3 x 4 = 12\n",
      "3 x 5 = 15\n",
      "3 x 6 = 18\n",
      "3 x 7 = 21\n",
      "3 x 8 = 24\n",
      "3 x 9 = 27\n",
      "3 x 10 = 30\n",
      "4 x 1 = 4\n",
      "4 x 2 = 8\n",
      "4 x 3 = 12\n",
      "4 x 4 = 16\n",
      "4 x 5 = 20\n",
      "4 x 6 = 24\n",
      "4 x 7 = 28\n",
      "4 x 8 = 32\n",
      "4 x 9 = 36\n",
      "4 x 10 = 40\n",
      "5 x 1 = 5\n",
      "5 x 2 = 10\n",
      "5 x 3 = 15\n",
      "5 x 4 = 20\n",
      "5 x 5 = 25\n",
      "5 x 6 = 30\n",
      "5 x 7 = 35\n",
      "5 x 8 = 40\n",
      "5 x 9 = 45\n",
      "5 x 10 = 50\n",
      "6 x 1 = 6\n",
      "6 x 2 = 12\n",
      "6 x 3 = 18\n",
      "6 x 4 = 24\n",
      "6 x 5 = 30\n",
      "6 x 6 = 36\n",
      "6 x 7 = 42\n",
      "6 x 8 = 48\n",
      "6 x 9 = 54\n",
      "6 x 10 = 60\n",
      "7 x 1 = 7\n",
      "7 x 2 = 14\n",
      "7 x 3 = 21\n",
      "7 x 4 = 28\n",
      "7 x 5 = 35\n",
      "7 x 6 = 42\n",
      "7 x 7 = 49\n",
      "7 x 8 = 56\n",
      "7 x 9 = 63\n",
      "7 x 10 = 70\n",
      "8 x 1 = 8\n",
      "8 x 2 = 16\n",
      "8 x 3 = 24\n",
      "8 x 4 = 32\n",
      "8 x 5 = 40\n",
      "8 x 6 = 48\n",
      "8 x 7 = 56\n",
      "8 x 8 = 64\n",
      "8 x 9 = 72\n",
      "8 x 10 = 80\n",
      "9 x 1 = 9\n",
      "9 x 2 = 18\n",
      "9 x 3 = 27\n",
      "9 x 4 = 36\n",
      "9 x 5 = 45\n",
      "9 x 6 = 54\n",
      "9 x 7 = 63\n",
      "9 x 8 = 72\n",
      "9 x 9 = 81\n",
      "9 x 10 = 90\n",
      "10 x 1 = 10\n",
      "10 x 2 = 20\n",
      "10 x 3 = 30\n",
      "10 x 4 = 40\n",
      "10 x 5 = 50\n",
      "10 x 6 = 60\n",
      "10 x 7 = 70\n",
      "10 x 8 = 80\n",
      "10 x 9 = 90\n",
      "10 x 10 = 100\n"
     ]
    }
   ],
   "source": [
    "tabuada = 1\n",
    "\n",
    "while tabuada <= 10:\n",
    "    numero = 1\n",
    "    while numero <= 10:\n",
    "        print(f\"{tabuada} x {numero} = {tabuada * numero}\")\n",
    "        numero += 1\n",
    "    tabuada += 1"
   ]
  },
  {
   "cell_type": "markdown",
   "metadata": {},
   "source": [
    "1. Use o for para imprimir os numeros de 0 a 36"
   ]
  },
  {
   "cell_type": "code",
   "execution_count": null,
   "metadata": {},
   "outputs": [
    {
     "name": "stdout",
     "output_type": "stream",
     "text": [
      "0\n",
      "1\n",
      "2\n",
      "3\n",
      "4\n",
      "5\n",
      "6\n",
      "7\n",
      "8\n",
      "9\n",
      "10\n",
      "11\n",
      "12\n",
      "13\n",
      "14\n",
      "15\n",
      "16\n",
      "17\n",
      "18\n",
      "19\n",
      "20\n",
      "21\n",
      "22\n",
      "23\n",
      "24\n",
      "25\n",
      "26\n",
      "27\n",
      "28\n",
      "29\n",
      "30\n",
      "31\n",
      "32\n",
      "33\n",
      "34\n",
      "35\n",
      "36\n",
      "37\n",
      "38\n",
      "39\n",
      "40\n",
      "41\n",
      "42\n",
      "43\n",
      "44\n",
      "45\n",
      "46\n",
      "47\n",
      "48\n",
      "49\n",
      "50\n",
      "51\n",
      "52\n",
      "53\n",
      "54\n",
      "55\n",
      "56\n",
      "57\n",
      "58\n"
     ]
    }
   ],
   "source": [
    "for num in range(0, 36):\n",
    "    print(num)\n"
   ]
  },
  {
   "cell_type": "markdown",
   "metadata": {},
   "source": [
    "2. Inprima os numeros de 13 até 59"
   ]
  },
  {
   "cell_type": "code",
   "execution_count": 3,
   "metadata": {},
   "outputs": [
    {
     "name": "stdout",
     "output_type": "stream",
     "text": [
      "13\n",
      "14\n",
      "15\n",
      "16\n",
      "17\n",
      "18\n",
      "19\n",
      "20\n",
      "21\n",
      "22\n",
      "23\n",
      "24\n",
      "25\n",
      "26\n",
      "27\n",
      "28\n",
      "29\n",
      "30\n",
      "31\n",
      "32\n",
      "33\n",
      "34\n",
      "35\n",
      "36\n",
      "37\n",
      "38\n",
      "39\n",
      "40\n",
      "41\n",
      "42\n",
      "43\n",
      "44\n",
      "45\n",
      "46\n",
      "47\n",
      "48\n",
      "49\n",
      "50\n",
      "51\n",
      "52\n",
      "53\n",
      "54\n",
      "55\n",
      "56\n",
      "57\n",
      "58\n"
     ]
    }
   ],
   "source": [
    "for num in range(13, 59):\n",
    "    print(num)\n"
   ]
  },
  {
   "cell_type": "markdown",
   "metadata": {},
   "source": [
    "3. Imprima os numeros de 0 a 100 de 10 em 10"
   ]
  },
  {
   "cell_type": "code",
   "execution_count": 4,
   "metadata": {},
   "outputs": [
    {
     "name": "stdout",
     "output_type": "stream",
     "text": [
      "0\n",
      "10\n",
      "20\n",
      "30\n",
      "40\n",
      "50\n",
      "60\n",
      "70\n",
      "80\n",
      "90\n"
     ]
    }
   ],
   "source": [
    "for num in range(0, 100, 10):\n",
    "    print(num)\n"
   ]
  },
  {
   "cell_type": "markdown",
   "metadata": {},
   "source": [
    "4. Peça ao usuário um número e mostre a tabuada dele"
   ]
  },
  {
   "cell_type": "code",
   "execution_count": 14,
   "metadata": {},
   "outputs": [
    {
     "name": "stdout",
     "output_type": "stream",
     "text": [
      "3 x 1 = 3\n",
      "3 x 2 = 6\n",
      "3 x 3 = 9\n",
      "3 x 4 = 12\n",
      "3 x 5 = 15\n",
      "3 x 6 = 18\n",
      "3 x 7 = 21\n",
      "3 x 8 = 24\n",
      "3 x 9 = 27\n",
      "3 x 10 = 30\n",
      "4 x 1 = 4\n",
      "4 x 2 = 8\n",
      "4 x 3 = 12\n",
      "4 x 4 = 16\n",
      "4 x 5 = 20\n",
      "4 x 6 = 24\n",
      "4 x 7 = 28\n",
      "4 x 8 = 32\n",
      "4 x 9 = 36\n",
      "4 x 10 = 40\n",
      "5 x 1 = 5\n",
      "5 x 2 = 10\n",
      "5 x 3 = 15\n",
      "5 x 4 = 20\n",
      "5 x 5 = 25\n",
      "5 x 6 = 30\n",
      "5 x 7 = 35\n",
      "5 x 8 = 40\n",
      "5 x 9 = 45\n",
      "5 x 10 = 50\n",
      "6 x 1 = 6\n",
      "6 x 2 = 12\n",
      "6 x 3 = 18\n",
      "6 x 4 = 24\n",
      "6 x 5 = 30\n",
      "6 x 6 = 36\n",
      "6 x 7 = 42\n",
      "6 x 8 = 48\n",
      "6 x 9 = 54\n",
      "6 x 10 = 60\n",
      "7 x 1 = 7\n",
      "7 x 2 = 14\n",
      "7 x 3 = 21\n",
      "7 x 4 = 28\n",
      "7 x 5 = 35\n",
      "7 x 6 = 42\n",
      "7 x 7 = 49\n",
      "7 x 8 = 56\n",
      "7 x 9 = 63\n",
      "7 x 10 = 70\n",
      "8 x 1 = 8\n",
      "8 x 2 = 16\n",
      "8 x 3 = 24\n",
      "8 x 4 = 32\n",
      "8 x 5 = 40\n",
      "8 x 6 = 48\n",
      "8 x 7 = 56\n",
      "8 x 8 = 64\n",
      "8 x 9 = 72\n",
      "8 x 10 = 80\n",
      "9 x 1 = 9\n",
      "9 x 2 = 18\n",
      "9 x 3 = 27\n",
      "9 x 4 = 36\n",
      "9 x 5 = 45\n",
      "9 x 6 = 54\n",
      "9 x 7 = 63\n",
      "9 x 8 = 72\n",
      "9 x 9 = 81\n",
      "9 x 10 = 90\n",
      "10 x 1 = 10\n",
      "10 x 2 = 20\n",
      "10 x 3 = 30\n",
      "10 x 4 = 40\n",
      "10 x 5 = 50\n",
      "10 x 6 = 60\n",
      "10 x 7 = 70\n",
      "10 x 8 = 80\n",
      "10 x 9 = 90\n",
      "10 x 10 = 100\n"
     ]
    }
   ],
   "source": [
    "tabuada = int(input('Digite um numero: '))\n",
    "\n",
    "while tabuada <= 10:\n",
    "    numero = 1\n",
    "    while numero <= 10:\n",
    "        print(f\"{tabuada} x {numero} = {tabuada * numero}\")\n",
    "        numero += 1\n",
    "    tabuada += 1"
   ]
  },
  {
   "cell_type": "markdown",
   "metadata": {},
   "source": [
    "5. Imprima apenas os numeros pares de 1 a 20"
   ]
  },
  {
   "cell_type": "code",
   "execution_count": 15,
   "metadata": {},
   "outputs": [
    {
     "name": "stdout",
     "output_type": "stream",
     "text": [
      "2\n",
      "4\n",
      "6\n",
      "8\n",
      "10\n",
      "12\n",
      "14\n",
      "16\n",
      "18\n",
      "20\n"
     ]
    }
   ],
   "source": [
    "for par in range(2, 21, 2):\n",
    "    print(par)"
   ]
  },
  {
   "cell_type": "markdown",
   "metadata": {},
   "source": [
    "6. Pela uma palavra para o usuário e conte quantas vezes aparece a letra \"A\""
   ]
  },
  {
   "cell_type": "code",
   "execution_count": 19,
   "metadata": {},
   "outputs": [
    {
     "name": "stdout",
     "output_type": "stream",
     "text": [
      "A palavra bala tem 2 A\n"
     ]
    }
   ],
   "source": [
    "palavras = input('Digite uma palavra: ')\n",
    "letrasA = 0\n",
    "\n",
    "for letra in palavras: \n",
    "    if letra.lower() == 'a':\n",
    "        letrasA += 1\n",
    " \n",
    "print(f'A palavra {palavras} tem {letrasA} A')"
   ]
  },
  {
   "cell_type": "markdown",
   "metadata": {},
   "source": [
    "7. Faça um programa que peça para n pessoas a sua idade. Ao final do programa devera verificar a media de idade da turama.\n",
    "\n",
    "* Entre 0 e 25: Jovem aprendiz no Senai\n",
    "* Entre 26 e 60: Adulto\n",
    "* Maior que 60: Idosa\n",
    "\n",
    "Mostra tambem a quantidade de pessoas em cada classificação"
   ]
  },
  {
   "cell_type": "code",
   "execution_count": null,
   "metadata": {},
   "outputs": [
    {
     "name": "stdout",
     "output_type": "stream",
     "text": [
      "15.0\n"
     ]
    }
   ],
   "source": [
    "n = int(input('Digite a quantidade de pessoa que tem em sua sala: '))\n",
    "somaIdades = 0\n",
    "\n",
    "for num in range(0, n):\n",
    "    somaIdades += int(input(f'Digite a idade do Nº {num + 1} aluno. '))\n",
    "media = somaIdades / n\n",
    "print(media)\n",
    "\n",
    "if media < 25:\n",
    "    print('Jovem aprendiz no Senai')\n",
    "if media > 26 and media < 60:\n",
    "    print('Adulto')\n",
    "if media > 60:\n",
    "    print('Idosa')"
   ]
  }
 ],
 "metadata": {
  "kernelspec": {
   "display_name": "Python 3",
   "language": "python",
   "name": "python3"
  },
  "language_info": {
   "codemirror_mode": {
    "name": "ipython",
    "version": 3
   },
   "file_extension": ".py",
   "mimetype": "text/x-python",
   "name": "python",
   "nbconvert_exporter": "python",
   "pygments_lexer": "ipython3",
   "version": "3.12.4"
  }
 },
 "nbformat": 4,
 "nbformat_minor": 2
}
