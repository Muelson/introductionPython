{
 "cells": [
  {
   "cell_type": "markdown",
   "metadata": {},
   "source": [
    "1. Crie um algoritmo que receba um valor em metros e converta para centímetros. (1 ponto)"
   ]
  },
  {
   "cell_type": "code",
   "execution_count": 2,
   "metadata": {},
   "outputs": [
    {
     "name": "stdout",
     "output_type": "stream",
     "text": [
      "O valor 1.0 metros em centimetros é 100.0 centimetros\n"
     ]
    }
   ],
   "source": [
    "valorMetros = float(input('Digite um valor em metros: '))\n",
    "print(f'O valor {valorMetros} metros em centimetros é {valorMetros*100} centimetros')"
   ]
  },
  {
   "cell_type": "markdown",
   "metadata": {},
   "source": [
    "2. Crie um algoritmo que pergunte quanto você ganha por hora e o número de horas que você trabalha por mês, o algoritmo deve calcular e mostrar qual seu salário naquele mês. (1 ponto)"
   ]
  },
  {
   "cell_type": "code",
   "execution_count": 3,
   "metadata": {},
   "outputs": [
    {
     "name": "stdout",
     "output_type": "stream",
     "text": [
      "O seu sálario mensal é de 60.0\n"
     ]
    }
   ],
   "source": [
    "salarioHoras = float(input('Digite o quanto você ganha por horas: '))\n",
    "horasTrabalhadas = float(input('Digite qunatas hora você trabalha por mês: '))\n",
    "\n",
    "print(f'O seu sálario mensal é de {salarioHoras * horasTrabalhadas}')"
   ]
  },
  {
   "cell_type": "markdown",
   "metadata": {},
   "source": [
    "3. Crie um algoritmo que leia uma entrada em quilômetros, e mostre quantas milhas equivalem essa quantidade em quilômetros. (1 ponto)"
   ]
  },
  {
   "cell_type": "code",
   "execution_count": 4,
   "metadata": {},
   "outputs": [
    {
     "name": "stdout",
     "output_type": "stream",
     "text": [
      "1.0 km é igual a 0.62 milhas\n"
     ]
    }
   ],
   "source": [
    "distancia_km = float(input('Digite uma distância em Km '))\n",
    "\n",
    "milhas = distancia_km / 1.609\n",
    "print(f'{distancia_km} km é igual a {milhas:.2f} milhas')\n"
   ]
  },
  {
   "cell_type": "markdown",
   "metadata": {},
   "source": [
    "4. Faça um algoritmo que leia um número inteiro e mostre o seu antecessor e seu sucessor. (1 ponto)"
   ]
  },
  {
   "cell_type": "code",
   "execution_count": 5,
   "metadata": {},
   "outputs": [
    {
     "name": "stdout",
     "output_type": "stream",
     "text": [
      "Seu antecessor é 1 e seu sucessor é 3\n"
     ]
    }
   ],
   "source": [
    "nm = int(input('Digite um número: '))\n",
    "print(f'Seu antecessor é {nm - 1} e seu sucessor é {nm + 1}')"
   ]
  },
  {
   "cell_type": "markdown",
   "metadata": {},
   "source": [
    "5. Zé Papo-de-Pescador, um trabalhador dedicado, comprou um computador para controlar o rendimento de seu trabalho diário na pesca. O regulamento de pesca do estado de São Paulo estabelece que o limite máximo de peso de peixes que pode ser capturado é de 30 quilos. Caso Zé pesque mais do que esse limite, ele deverá pagar uma multa de R$ 3,00 por cada quilo excedente.\n",
    "\n",
    "Crie um algoritmo que leia o peso total dos peixes capturados e calcule:\n",
    "\n",
    " * O excesso de peso (a quantidade de quilos que ultrapassam o limite de 30 quilos).\n",
    " * O valor da multa, que será calculado multiplicando o excesso de peso por R$ 3,00.\n",
    " \n",
    "O algoritmo deve exibir na tela as informações sobre o peso total, o excesso e o valor da multa que Zé deverá pagar, caso haja algum excedente. (1 ponto)"
   ]
  },
  {
   "cell_type": "code",
   "execution_count": 6,
   "metadata": {},
   "outputs": [
    {
     "name": "stdout",
     "output_type": "stream",
     "text": [
      "Você ultrapassou limite de peso dos peixes.  a sua multa será de: 6.0\n"
     ]
    }
   ],
   "source": [
    "peso_peixes = float(input('Digite o peso dos peixes em KG: '))\n",
    "multa_kg = 3\n",
    "limmite_peixe = 30\n",
    "\n",
    "if peso_peixes > limmite_peixe:\n",
    "    valor_multa = (peso_peixes - limmite_peixe) * multa_kg\n",
    "    print(f'Você ultrapassou limite de peso dos peixes.  a sua multa será de: {valor_multa}')\n",
    "else:\n",
    "    print('Você está dentro do limite de peso dos peixes.')\n"
   ]
  },
  {
   "cell_type": "markdown",
   "metadata": {},
   "source": [
    "6. Um motorista deseja colocar no seu tanque X reais de gasolina. Escreva um algoritmo para ler o preço do litro da gasolina e o valor do pagamento, e exibir quantos litros ele conseguiu colocar no tanque. (1 ponto)"
   ]
  },
  {
   "cell_type": "code",
   "execution_count": 7,
   "metadata": {},
   "outputs": [
    {
     "name": "stdout",
     "output_type": "stream",
     "text": [
      "Deu 1.0L\n"
     ]
    }
   ],
   "source": [
    "preco_gasolina = float(input('Digite o prelo da gasolina: '))\n",
    "valor_pagammento = float(input('Digite o valor do pagaento: '))\n",
    "\n",
    "litros = valor_pagammento / preco_gasolina\n",
    "\n",
    "print(f'Deu {litros}L')"
   ]
  },
  {
   "cell_type": "markdown",
   "metadata": {},
   "source": [
    "7. Crie um algoritmo que receba quanto você ganha por hora e quantas horas trabalhou no mês. O algoritmo deve calcular e mostrar o seu salário no referido mês, sabendo que serão descontados 11% do Imposto de Renda (IR) e mais 8% do INSS. No final o algoritmo deve apresentar: (2 pontos)\n",
    "\n",
    "a. Salário bruto\n",
    "\n",
    "b. Valor do imposto de renda\n",
    "\n",
    "c. Valor do INSS\n",
    "\n",
    "d. Salário líquido (líquido = bruto – impostos)"
   ]
  },
  {
   "cell_type": "code",
   "execution_count": 13,
   "metadata": {},
   "outputs": [
    {
     "name": "stdout",
     "output_type": "stream",
     "text": [
      "Seu salário bruto é de R$1100.00\n",
      "O valor do imposto de renda é de R$121.00\n",
      "O valor do INSS é de R$88.00\n",
      "Seu salário líquido é de R$891.00\n"
     ]
    }
   ],
   "source": [
    "salarioHoras = float(input('Digite o quanto você ganha por horas: '))\n",
    "horasTrabalhadas = float(input('Digite qunatas hora você trabalha por mês: '))\n",
    "\n",
    "salario_bruto = salarioHoras * horasTrabalhadas\n",
    "imposto = salario_bruto * .11\n",
    "inss = salario_bruto * .08\n",
    "salario_liquido = salario_bruto - imposto - inss\n",
    "\n",
    "print(f\"Seu salário bruto é de R${salario_bruto:.2f}\")\n",
    "print(f\"O valor do imposto de renda é de R${imposto:.2f}\")\n",
    "print(f\"O valor do INSS é de R${inss:.2f}\")\n",
    "print(f\"Seu salário líquido é de R${(salario_bruto - imposto - inss):.2f}\")"
   ]
  },
  {
   "cell_type": "markdown",
   "metadata": {},
   "source": [
    "8. Você foi contratado pela Unimar para auxiliar na reforma dos blocos, ajudando na otimização dos custos com pintura. Para isso, desenvolva um programa que calcule a quantidade de tinta necessária e o custo total da compra. (2 pontos)\n",
    "\n",
    "O programa deve:\n",
    "\n",
    " ● Solicitar ao usuário o tamanho da área a ser pintada (em metros quadrados).\n",
    "\n",
    " ● Considerar que 1 litro de tinta cobre 3 m².\n",
    "\n",
    " ● As tintas são vendidas em latas de 18 litros, e cada lata custa R$ 80,00.\n",
    "\n",
    " ● Calcular a quantidade total de latas necessárias (arredondando para cima, se necessário).\n",
    "\n",
    " ● Informar ao usuário a quantidade de latas a serem compradas e o custo total da compra.\n",
    "\n",
    " ● O objetivo do programa é fornecer informações precisas para facilitar a tomada de decisão sobre a compra da tinta"
   ]
  },
  {
   "cell_type": "code",
   "execution_count": 15,
   "metadata": {},
   "outputs": [
    {
     "name": "stdout",
     "output_type": "stream",
     "text": [
      " A area a ser pintada é 100.0M² Você vai precisar de 33.33 litros de tinta. O que seria 2 latas, custando R$160.00\n"
     ]
    }
   ],
   "source": [
    "import math\n",
    "\n",
    "areaPintada = float(input(\"Digite a área a ser pintada (em metros quadrados): \"))\n",
    "\n",
    "litrosNecessarios = areaPintada / 3\n",
    "latas = math.ceil(litrosNecessarios / 18)\n",
    "preco = latas * 80.0\n",
    "\n",
    "print(f\" A area a ser pintada é {areaPintada}M² Você vai precisar de {litrosNecessarios:.2f} litros de tinta. O que seria {(latas)} latas, custando R${preco:.2f}\")"
   ]
  }
 ],
 "metadata": {
  "kernelspec": {
   "display_name": "Python 3",
   "language": "python",
   "name": "python3"
  },
  "language_info": {
   "codemirror_mode": {
    "name": "ipython",
    "version": 3
   },
   "file_extension": ".py",
   "mimetype": "text/x-python",
   "name": "python",
   "nbconvert_exporter": "python",
   "pygments_lexer": "ipython3",
   "version": "3.13.2"
  }
 },
 "nbformat": 4,
 "nbformat_minor": 2
}
